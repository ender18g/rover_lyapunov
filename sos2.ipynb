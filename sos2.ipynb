{
 "cells": [
  {
   "cell_type": "markdown",
   "metadata": {},
   "source": [
    "### Searching for Lyapunov Candidate!"
   ]
  },
  {
   "cell_type": "code",
   "execution_count": 2,
   "metadata": {},
   "outputs": [],
   "source": [
    "import matplotlib.pyplot as plt\n",
    "import numpy as np\n",
    "from IPython.display import Markdown, display\n",
    "from pydrake.all import (\n",
    "    Jacobian,\n",
    "    MathematicalProgram,\n",
    "    Solve,\n",
    "    SymbolicVectorSystem,\n",
    "    ToLatex,\n",
    "    Variable,\n",
    "    Variables,\n",
    ")\n",
    "from pydrake.symbolic import Polynomial"
   ]
  },
  {
   "cell_type": "markdown",
   "metadata": {},
   "source": [
    "### Define equations for Dynamic Bicycle model"
   ]
  },
  {
   "cell_type": "code",
   "execution_count": 67,
   "metadata": {},
   "outputs": [
    {
     "data": {
      "text/markdown": [
       "$$\\left[\\begin{matrix}\\ddot{y} m\\\\J_{z} \\ddot{\\psi}\\end{matrix}\\right]$$"
      ],
      "text/plain": [
       "<IPython.core.display.Markdown object>"
      ]
     },
     "metadata": {},
     "output_type": "display_data"
    },
    {
     "data": {
      "text/markdown": [
       "$$\\left[\\begin{matrix}- \\frac{C_{\\Delta} \\dot{\\psi}}{\\dot{x}} - \\frac{C_{\\Sigma} \\dot{y}}{\\dot{x}} + C_{\\alpha_f} \\delta - \\dot{\\psi} \\dot{x} m\\\\\\frac{- C_{\\Delta} \\dot{y} - C_{\\Sigma} \\dot{\\psi} + C_{\\alpha_f} \\delta \\dot{x}}{\\dot{x}}\\end{matrix}\\right]$$"
      ],
      "text/plain": [
       "<IPython.core.display.Markdown object>"
      ]
     },
     "metadata": {},
     "output_type": "display_data"
    },
    {
     "data": {
      "text/markdown": [
       "$$W_v = \\left[\\begin{matrix}- \\dot{\\psi} \\dot{x} & 0 & \\delta & - \\frac{\\dot{y}}{\\dot{x}} & - \\frac{\\dot{\\psi}}{\\dot{x}}\\\\0 & 0 & \\delta & - \\frac{\\dot{\\psi}}{\\dot{x}} & - \\frac{\\dot{y}}{\\dot{x}}\\end{matrix}\\right]$$"
      ],
      "text/plain": [
       "<IPython.core.display.Markdown object>"
      ]
     },
     "metadata": {},
     "output_type": "display_data"
    },
    {
     "data": {
      "text/markdown": [
       "$$\\mathbb{W} = \\left[\\begin{matrix}\\ddot{y} + \\dot{\\psi} \\dot{x} & 0 & - \\delta & \\frac{\\dot{y}}{\\dot{x}} & \\frac{\\dot{\\psi}}{\\dot{x}}\\\\0 & \\ddot{\\psi} & - \\delta & \\frac{\\dot{\\psi}}{\\dot{x}} & \\frac{\\dot{y}}{\\dot{x}}\\end{matrix}\\right]$$"
      ],
      "text/plain": [
       "<IPython.core.display.Markdown object>"
      ]
     },
     "metadata": {},
     "output_type": "display_data"
    }
   ],
   "source": [
    "# declare variables\n",
    "from sympy import *\n",
    "from IPython.display import display, Markdown, Latex\n",
    "\n",
    "m, j_z, c_af, c_s, c_d = symbols(\"m J_z C_{\\\\alpha_f} C_{\\\\Sigma} C_{\\\\Delta}\")\n",
    "x_dot, y_dot, psi_dot, delta, y_ddot, psi_ddot = symbols(\"\\\\dot{x} \\\\dot{y} \\\\dot{\\\\psi} \\\\delta \\\\ddot{y} \\\\ddot{\\\\psi}\")\n",
    "\n",
    "# length is constant\n",
    "l = 1\n",
    "\n",
    "v_dot = Matrix([\n",
    "[-c_s/(m*x_dot) * y_dot - c_d * l/(m*x_dot) * psi_dot + c_af/m * delta - x_dot * psi_dot],\n",
    "[-c_d/(j_z * x_dot) * y_dot - c_s * l**2/(j_z * x_dot) * psi_dot + c_af * l/j_z * delta]]\n",
    ")\n",
    "\n",
    "# define inertial matrix\n",
    "M = Matrix([[m, 0], [0, j_z]])\n",
    "\n",
    "# get LHS (LHS = M * v_dot)\n",
    "LHS = simplify(M * Matrix([[y_ddot], [psi_ddot]]))\n",
    "\n",
    "#print LHS in latex\n",
    "display(Markdown(\"$$\" + latex(LHS) + \"$$\"))\n",
    "\n",
    "# get RHS (RHS = M * v_dot)\n",
    "RHS = simplify(M * v_dot)\n",
    "display(Markdown(\"$$\" + latex(RHS) + \"$$\"))\n",
    "\n",
    "\n",
    "# make the W regressor\n",
    "theta = Array([m, j_z, c_af, c_s, c_d])\n",
    "\n",
    "# take the jacobian of v_dot with respect to theta\n",
    "W_v = (RHS).jacobian(theta)\n",
    "display(Markdown(\"$$W_v = \" + latex(W_v) + \"$$\"))\n",
    "\n",
    "# make Big W regressor\n",
    "W = (LHS - RHS).jacobian(theta)\n",
    "display(Markdown(\"$$\\mathbb{W} = \" + latex(W) + \"$$\"))\n",
    "\n",
    "\n"
   ]
  },
  {
   "cell_type": "markdown",
   "metadata": {},
   "source": [
    "### Dynamic Bicycle Model\n",
    "\n",
    "\\begin{equation}\n",
    "    \\ddot{y} = -\\frac{C_{\\Sigma}}{m \\dot{x}}\\dot{y}\n",
    "    -\\frac{C_{\\Delta}l}{m \\dot{x}}\\dot{\\psi}\n",
    "    + \\frac{C_{\\alpha f}}{m} \\delta\n",
    "    -\\dot{x}\\dot{\\psi}\n",
    "\\end{equation}\n",
    "\n",
    "\\begin{equation}\n",
    "    \\ddot{\\psi} = -\\frac{C_{\\Delta}l}{J_z \\dot{x}} \\dot{y}\n",
    "    -\\frac{C_{\\Sigma} l^{2}}{J_z \\dot{x}}\\dot{\\psi}\n",
    "    + \\frac{C_{\\alpha f}l}{J_z} \\delta.\n",
    "\\end{equation}\n",
    "\n"
   ]
  },
  {
   "cell_type": "markdown",
   "metadata": {},
   "source": [
    "\\begin{equation}\n",
    "    \\delta = \\frac{J_z}{C_{\\alpha f} l}( \\frac{C_{\\Delta}l}{J_z \\dot{x}} \\dot{y}\n",
    "    +\\frac{C_{\\Sigma} l^{2}}{J_z \\dot{x}}\\dot{\\psi})\n",
    "\\end{equation}\n",
    "\n",
    "$\\theta = [m \\quad J_z \\quad C_{\\alpha f}  \\quad C_{\\sigma} \\quad C_{\\Delta}]  \\qquad \\in \\mathbb{R}^5$"
   ]
  },
  {
   "cell_type": "code",
   "execution_count": 8,
   "metadata": {},
   "outputs": [
    {
     "name": "stdout",
     "output_type": "stream",
     "text": [
      "Candidate:\n"
     ]
    },
    {
     "data": {
      "text/markdown": [
       "$V(x) = (S_{2,2} + 2x_{0} x_{1} S_{1,0} + 2x_{0} S_{2,1} + x_{0}^{2} S_{1,1} + 2x_{1} S_{2,0} + x_{1}^{2} S_{0,0})$"
      ],
      "text/plain": [
       "<IPython.core.display.Markdown object>"
      ]
     },
     "metadata": {},
     "output_type": "display_data"
    },
    {
     "name": "stdout",
     "output_type": "stream",
     "text": [
      "Solution:\n"
     ]
    },
    {
     "data": {
      "text/markdown": [
       "$V(x) = ( - 0.581187x_{0} x_{1} + 1.000000x_{0}^{2} + 0.084445x_{1}^{2})$"
      ],
      "text/plain": [
       "<IPython.core.display.Markdown object>"
      ]
     },
     "metadata": {},
     "output_type": "display_data"
    }
   ],
   "source": [
    "def sos_bicycle():\n",
    "    prog = MathematicalProgram()\n",
    "\n",
    "    # define known parameters \n",
    "    m = 1.0  # mass\n",
    "    J_z = 0.1  # moment of inertia\n",
    "    l = 0.5  # length\n",
    "    C_af = 15 \n",
    "    C_sigma = 35\n",
    "    C_delta = -5\n",
    "    x_dot = 1\n",
    "\n",
    "    # define state variables\n",
    "    x = prog.NewIndeterminates(2, \"x\")\n",
    "    y_dot = x[0]\n",
    "    psi_dot = x[1]\n",
    "\n",
    "    # define input variables & dynamics\n",
    "    delta_in = (J_z/(C_af *l) * (C_sigma* l/(J_z * x_dot) * y_dot + C_sigma * l**2/(J_z * x_dot) * psi_dot))\n",
    "    y_ddot = -C_sigma/(m*x_dot) * y_dot - C_delta * l/(m*x_dot) * psi_dot + C_af/m * delta_in - x_dot * psi_dot\n",
    "    psi_ddot = -C_delta/(J_z * x_dot) * y_dot - C_sigma * l**2/(J_z * x_dot) * psi_dot + C_af * l/J_z * delta_in\n",
    "\n",
    "    # define f(x) for bicycle model\n",
    "    f = [y_ddot, psi_ddot]\n",
    "\n",
    "    # create a blank SOS polynomial\n",
    "    V = prog.NewSosPolynomial(Variables(x), 2)[0].ToExpression()\n",
    "    print(\"Candidate:\")\n",
    "    display(Markdown(\"$V(x) = \" + ToLatex(V) + \"$\"))\n",
    "    # add constraints to scale the result\n",
    "    prog.AddLinearConstraint(V.Substitute({x[0]: 0, x[1]: 0}) == 0)\n",
    "    prog.AddLinearConstraint(V.Substitute({x[0]: 1, x[1]: 0}) == 1)\n",
    "    # define Vdot\n",
    "    Vdot = V.Jacobian(x).dot(f)\n",
    "    # Make sure -Vdot is SOS\n",
    "    prog.AddSosConstraint(-Vdot)\n",
    "\n",
    "    result = Solve(prog)\n",
    "    assert result.is_success()\n",
    "\n",
    "    print(\"Solution:\")\n",
    "    display(\n",
    "        Markdown(\n",
    "            \"$V(x) = \"\n",
    "            + ToLatex(\n",
    "                Polynomial(result.GetSolution(V))\n",
    "                .RemoveTermsWithSmallCoefficients(1e-5)\n",
    "                .ToExpression(),\n",
    "                6,\n",
    "            )\n",
    "            + \"$\"\n",
    "        )\n",
    "    )\n",
    "\n",
    "\n",
    "sos_bicycle()"
   ]
  },
  {
   "cell_type": "code",
   "execution_count": null,
   "metadata": {},
   "outputs": [],
   "source": []
  }
 ],
 "metadata": {
  "kernelspec": {
   "display_name": "venv",
   "language": "python",
   "name": "python3"
  },
  "language_info": {
   "codemirror_mode": {
    "name": "ipython",
    "version": 3
   },
   "file_extension": ".py",
   "mimetype": "text/x-python",
   "name": "python",
   "nbconvert_exporter": "python",
   "pygments_lexer": "ipython3",
   "version": "3.11.6"
  }
 },
 "nbformat": 4,
 "nbformat_minor": 2
}
